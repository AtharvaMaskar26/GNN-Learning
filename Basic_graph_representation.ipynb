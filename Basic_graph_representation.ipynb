{
 "cells": [
  {
   "cell_type": "code",
   "execution_count": 2,
   "metadata": {},
   "outputs": [],
   "source": [
    "import random\n",
    "from tqdm.notebook import tqdm\n",
    "import pandas as pd\n",
    "import numpy as np\n",
    "import matplotlib.pyplot as plt\n",
    "from sklearn.model_selection import train_test_split\n",
    "from sklearn import model_selection, metrics, preprocessing\n",
    "import copy\n",
    "from torch_geometric.utils import degree\n",
    "\n",
    "import torch\n",
    "from torch import nn, optim, matmul\n",
    "\n",
    "from torch_sparse import SparseTensor, matmul\n",
    "\n",
    "from torch_geometric.utils import structured_negative_sampling\n",
    "from torch_geometric.data import download_url, extract_zip\n",
    "from torch_geometric.nn.conv.gcn_conv import gcn_norm\n",
    "from torch_geometric.nn.conv import MessagePassing\n",
    "from torch_geometric.typing import Adj\n",
    "\n",
    "from scipy import sparse"
   ]
  },
  {
   "cell_type": "code",
   "execution_count": 3,
   "metadata": {},
   "outputs": [
    {
     "data": {
      "text/plain": [
       "\"\\nLet's look at the following 3 x 4 interaction matrix\\n                items\\n                i1  i2  i3  i4\\n    users   u1  0   0   1   1\\n            u2  1   0   1   0\\n            u3  0   1   0   0   \\n\\n\""
      ]
     },
     "execution_count": 3,
     "metadata": {},
     "output_type": "execute_result"
    }
   ],
   "source": [
    "'''\n",
    "Let's look at the following 3 x 4 interaction matrix\n",
    "                items\n",
    "                i1  i2  i3  i4\n",
    "    users   u1  0   0   1   1\n",
    "            u2  1   0   1   0\n",
    "            u3  0   1   0   0   \n",
    "\n",
    "'''"
   ]
  },
  {
   "cell_type": "code",
   "execution_count": 4,
   "metadata": {},
   "outputs": [
    {
     "name": "stdout",
     "output_type": "stream",
     "text": [
      "[[0 0 1 1]\n",
      " [1 0 1 0]\n",
      " [0 1 0 0]]\n"
     ]
    }
   ],
   "source": [
    "# Making an interaction matrix\n",
    "r_mat = np.array([\n",
    "    [0, 0, 1, 1], \n",
    "    [1, 0, 1, 0], \n",
    "    [0, 1, 0, 0]\n",
    "])\n",
    "\n",
    "print(r_mat)"
   ]
  },
  {
   "cell_type": "code",
   "execution_count": 5,
   "metadata": {},
   "outputs": [
    {
     "name": "stdout",
     "output_type": "stream",
     "text": [
      "  (0, 2)\t1\n",
      "  (0, 3)\t1\n",
      "  (1, 0)\t1\n",
      "  (1, 2)\t1\n",
      "  (2, 1)\t1\n"
     ]
    }
   ],
   "source": [
    "# Converting the interaction matrix into the coo format\n",
    "r_mat_np_coo = sparse.coo_matrix(r_mat) # This is more space efficent\n",
    "\n",
    "print(r_mat_np_coo)"
   ]
  },
  {
   "cell_type": "code",
   "execution_count": 7,
   "metadata": {},
   "outputs": [
    {
     "name": "stdout",
     "output_type": "stream",
     "text": [
      "[0 0 1 1 2]\n",
      "[2 3 0 2 1]\n"
     ]
    }
   ],
   "source": [
    "# edge index\n",
    "r_mat_edge_index = [r_mat_np_coo.row, r_mat_np_coo.col]\n",
    "\n",
    "print(r_mat_edge_index[0])\n",
    "print(r_mat_edge_index[1])"
   ]
  },
  {
   "cell_type": "markdown",
   "metadata": {},
   "source": [
    "## We can do the same thing in pytorch"
   ]
  },
  {
   "cell_type": "code",
   "execution_count": 9,
   "metadata": {},
   "outputs": [
    {
     "data": {
      "text/plain": [
       "tensor([[0, 0, 1, 1, 2],\n",
       "        [2, 3, 0, 2, 1]])"
      ]
     },
     "execution_count": 9,
     "metadata": {},
     "output_type": "execute_result"
    }
   ],
   "source": [
    "r_mat_edge_index = torch.LongTensor(np.array(r_mat_edge_index))\n",
    "\n",
    "r_mat_edge_index"
   ]
  },
  {
   "cell_type": "code",
   "execution_count": 10,
   "metadata": {},
   "outputs": [
    {
     "name": "stdout",
     "output_type": "stream",
     "text": [
      "SparseTensor(row=tensor([0, 0, 1, 1, 2]),\n",
      "             col=tensor([2, 3, 0, 2, 1]),\n",
      "             size=(3, 4), nnz=5, density=41.67%)\n"
     ]
    }
   ],
   "source": [
    "sparse_r_mat_edge_index = SparseTensor(\n",
    "    row=r_mat_edge_index[0], \n",
    "    col=r_mat_edge_index[1], \n",
    "    sparse_sizes=(3, 4)\n",
    ")\n",
    "\n",
    "print(sparse_r_mat_edge_index)"
   ]
  },
  {
   "cell_type": "code",
   "execution_count": 11,
   "metadata": {},
   "outputs": [
    {
     "name": "stdout",
     "output_type": "stream",
     "text": [
      "tensor([[0., 0., 1., 1.],\n",
      "        [1., 0., 1., 0.],\n",
      "        [0., 1., 0., 0.]])\n"
     ]
    }
   ],
   "source": [
    "print(sparse_r_mat_edge_index.to_dense())"
   ]
  },
  {
   "cell_type": "code",
   "execution_count": 12,
   "metadata": {},
   "outputs": [],
   "source": [
    "# Creating a function to convert interaction matrix edge index to adjecency matrix edge index\n",
    "\n",
    "def convert_r_mat_edge_index_to_adj_mat_index(input_edge_index, row_size, col_size):\n",
    "    R = torch.zeros((row_size, col_size))\n",
    "\n",
    "    # Convert sparse Coo format to dense format to get R\n",
    "    for i in range(len(input_edge_index[0])):\n",
    "        row_idx = input_edge_index[0][i]\n",
    "        col_idx = input_edge_index[0][i]\n",
    "        R[row_idx][col_idx] = 1\n",
    "    \n",
    "    # Perform the r_mat to adj_mat converstion\n",
    "    R_transpose = torch.transpose(R, 0, 1)\n",
    "    adj_mat = torch.zeros((row_size + col_size, row_idx + col_size))\n",
    "\n",
    "    adj_mat[:, row_size, row_size: ] = R.clone()\n",
    "    adj_mat[row_size: , : row_size] = R_transpose.clone()\n",
    "\n",
    "    # Convertfrom dense format back to sparse format so we can get the edge_index of the adjecency matrix\n",
    "    adj_mat_coo = adj_mat.to_sparse_coo()\n",
    "    adj_mat_coo = adj_mat_coo.indices()\n",
    "    return adj_mat_coo"
   ]
  },
  {
   "cell_type": "code",
   "execution_count": null,
   "metadata": {},
   "outputs": [],
   "source": [
    "def convert_adj_mat_edge_index_to_r_mat_edge_index(input_edge_index, row_size, col_size):\n",
    "    # Create a sparse tensor so we can easlity do the to_dense conversation and get sub amtrix \n",
    "    sparse_input_edge_index = SparseTensor(\n",
    "        row=input_edge_index[0], \n",
    "        col=input_edge_index[1], \n",
    "        sparse_sizes=((row_size + col_size), row_size + col_size)\n",
    "    )\n",
    "\n",
    "    adj_mat = sparse_r_mat_edge_index.to_dense()\n",
    "    interact_matrix = adj_mat[:, row_size, col_size : ]\n",
    "\n",
    "    r_mat_edge_index = interact_matrix.to_sparse_coo().indices()\n",
    "\n",
    "    return r_mat_edge_index"
   ]
  }
 ],
 "metadata": {
  "kernelspec": {
   "display_name": "Python 3",
   "language": "python",
   "name": "python3"
  },
  "language_info": {
   "codemirror_mode": {
    "name": "ipython",
    "version": 3
   },
   "file_extension": ".py",
   "mimetype": "text/x-python",
   "name": "python",
   "nbconvert_exporter": "python",
   "pygments_lexer": "ipython3",
   "version": "3.12.0"
  }
 },
 "nbformat": 4,
 "nbformat_minor": 2
}
